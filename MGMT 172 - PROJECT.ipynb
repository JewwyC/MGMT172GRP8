{
 "cells": [
  {
   "cell_type": "code",
   "execution_count": 34,
   "id": "11ac96f6",
   "metadata": {},
   "outputs": [],
   "source": [
    "import numpy as np\n",
    "import pandas as pd\n",
    "import yfinance as yf\n",
    "import matplotlib.pyplot as plt"
   ]
  },
  {
   "cell_type": "code",
   "execution_count": 2,
   "id": "2f37774c",
   "metadata": {},
   "outputs": [],
   "source": [
    "start_date = '1980-01-01'\n",
    "end_date = '2024-12-31'"
   ]
  },
  {
   "cell_type": "code",
   "execution_count": 3,
   "id": "c93a27b1",
   "metadata": {},
   "outputs": [
    {
     "name": "stderr",
     "output_type": "stream",
     "text": [
      "[*********************100%%**********************]  1 of 1 completed\n"
     ]
    }
   ],
   "source": [
    "Apple = yf.download(\"AAPL\", start_date, end_date)"
   ]
  },
  {
   "cell_type": "code",
   "execution_count": 5,
   "id": "cad8bf84",
   "metadata": {},
   "outputs": [],
   "source": [
    "Apple.reset_index(inplace=True)"
   ]
  },
  {
   "cell_type": "code",
   "execution_count": 6,
   "id": "6e2c85da",
   "metadata": {},
   "outputs": [],
   "source": [
    "Apple[\"Company\"]='Apple'"
   ]
  },
  {
   "cell_type": "code",
   "execution_count": 30,
   "id": "884bc6ed",
   "metadata": {},
   "outputs": [],
   "source": [
    "apple_stock = yf.Ticker(\"AAPL\")"
   ]
  },
  {
   "cell_type": "code",
   "execution_count": 31,
   "id": "d5acdca9",
   "metadata": {},
   "outputs": [],
   "source": [
    "apple_history = apple.history(start='1980-01-01', end='2024-12-31')"
   ]
  },
  {
   "cell_type": "code",
   "execution_count": 45,
   "id": "73606cea",
   "metadata": {
    "scrolled": false
   },
   "outputs": [
    {
     "name": "stdout",
     "output_type": "stream",
     "text": [
      "            Released                             Model\n",
      "0   November 1, 1980                         Apple III\n",
      "1   November 1, 1980          Modem IIB (Novation CAT)\n",
      "2   November 1, 1980      Printer IIA (Centronics 779)\n",
      "3   November 1, 1980                       Monitor III\n",
      "4   November 1, 1980  Monitor II (various third party)\n",
      "..               ...                               ...\n",
      "3       May 15, 2024                  Apple Pencil Pro\n",
      "4       May 15, 2024               iPad Air 11-in (M2)\n",
      "5       May 15, 2024               iPad Air 13-in (M2)\n",
      "6       May 15, 2024              iPad Pro 11-in. (M4)\n",
      "7       May 15, 2024              iPad Pro 13-in. (M4)\n",
      "\n",
      "[669 rows x 2 columns]\n"
     ]
    }
   ],
   "source": [
    "tables= pd.read_html('https://en.wikipedia.org/wiki/List_of_Apple_products')\n",
    "df = pd.concat(tables[1:44])\n",
    "selected_columns = df[[\"Released\", \"Model\"]]\n",
    "selected_columns = selected_columns.dropna()\n",
    "print(selected_columns)"
   ]
  },
  {
   "cell_type": "code",
   "execution_count": 46,
   "id": "71b6d207",
   "metadata": {},
   "outputs": [],
   "source": [
    "def fetch_stock_data(symbol, start='1980-01-01', end='2024-12-31'):\n",
    "    stock_data = yf.download(symbol, start=start_date, end=end_date)\n",
    "    return stock_data['Adj Close']"
   ]
  },
  {
   "cell_type": "code",
   "execution_count": 47,
   "id": "c300292b",
   "metadata": {},
   "outputs": [],
   "source": [
    "def analyze_stock_price_effect(stock_data, release_dates, event_window_days):\n",
    "    price_changes = []"
   ]
  },
  {
   "cell_type": "code",
   "execution_count": 60,
   "id": "b82b16ed",
   "metadata": {},
   "outputs": [
    {
     "name": "stdout",
     "output_type": "stream",
     "text": [
      "Event Start: 1980-01-01 00:00:00\n",
      "Event End: 2024-12-31 00:00:00\n"
     ]
    }
   ],
   "source": [
    "event_window_days = 0\n",
    "release_dates = [(pd.Timestamp('1980-01-01'), pd.Timestamp('2024-12-31'))]\n",
    "for start, end in release_dates:\n",
    "    event_start = start - pd.Timedelta(days=event_window_days)\n",
    "    event_end = end + pd.Timedelta(days=event_window_days)\n",
    "    print(\"Event Start:\", event_start)\n",
    "    print(\"Event End:\", event_end)"
   ]
  },
  {
   "cell_type": "code",
   "execution_count": null,
   "id": "bcfcf681",
   "metadata": {},
   "outputs": [],
   "source": []
  }
 ],
 "metadata": {
  "kernelspec": {
   "display_name": "Python 3 (ipykernel)",
   "language": "python",
   "name": "python3"
  },
  "language_info": {
   "codemirror_mode": {
    "name": "ipython",
    "version": 3
   },
   "file_extension": ".py",
   "mimetype": "text/x-python",
   "name": "python",
   "nbconvert_exporter": "python",
   "pygments_lexer": "ipython3",
   "version": "3.11.7"
  }
 },
 "nbformat": 4,
 "nbformat_minor": 5
}
